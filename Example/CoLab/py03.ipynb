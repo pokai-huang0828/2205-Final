{
  "nbformat": 4,
  "nbformat_minor": 0,
  "metadata": {
    "colab": {
      "name": "py03.ipynb",
      "provenance": [],
      "toc_visible": true,
      "authorship_tag": "ABX9TyNwGm3lG8mrOKEChA/A5mgA",
      "include_colab_link": true
    },
    "kernelspec": {
      "name": "python3",
      "display_name": "Python 3"
    },
    "language_info": {
      "name": "python"
    }
  },
  "cells": [
    {
      "cell_type": "markdown",
      "metadata": {
        "id": "view-in-github",
        "colab_type": "text"
      },
      "source": [
        "<a href=\"https://colab.research.google.com/github/pokai-huang0828/2205-Final/blob/main/Example/CoLab/py03.ipynb\" target=\"_parent\"><img src=\"https://colab.research.google.com/assets/colab-badge.svg\" alt=\"Open In Colab\"/></a>"
      ]
    },
    {
      "cell_type": "markdown",
      "source": [
        "# Python Day 3 July 17th"
      ],
      "metadata": {
        "id": "O2zC7v_ryPDT"
      }
    },
    {
      "cell_type": "markdown",
      "source": [
        "# 函式宣告\n",
        "\n",
        "### 1. 傳入參數注意事項:\n",
        "  * 函式的傳入參數放在 ( ) 內\n",
        "  * 可以接收零個、一個或多個傳入參數\n",
        "  * 多個參數以逗點隔開\n",
        "  * Python 傳入參數是動態型別，可以是任意資料型態\n",
        "  * 可以是單一參數，也可以是集合\n",
        "  * 呼叫時以參數的位置對應參數名稱\n",
        "\n",
        "### 2. 傳回值注意事項:\n",
        "  * 函式結尾處以 return 語法傳回物件\n",
        "  * return 後可接一個運算式或者變數資料\n",
        "  * return 只能回傳一個物件，多筆資料會被放在tuple內回傳\n",
        "  * 未指定時回傳None物件\n",
        "    * return\n",
        "    * 省略 return"
      ],
      "metadata": {
        "id": "8M566D2qzbqg"
      }
    },
    {
      "cell_type": "code",
      "execution_count": null,
      "metadata": {
        "colab": {
          "base_uri": "https://localhost:8080/"
        },
        "id": "A-c019BKx5Kr",
        "outputId": "c655f5e1-edd7-4ce0-9637-8eb78437f6c4"
      },
      "outputs": [
        {
          "output_type": "stream",
          "name": "stdout",
          "text": [
            "Before greet() function.\n",
            "Hello World!\n",
            "It's nice to see you!\n",
            "Goodbye!\n",
            "After greet() function\n"
          ]
        }
      ],
      "source": [
        "def greet():\n",
        "  print(\"Hello World!\")\n",
        "  print(\"It's nice to see you!\")\n",
        "  print(\"Goodbye!\")\n",
        "\n",
        "print(\"Before greet() function.\")\n",
        "greet()\n",
        "print(\"After greet() function\")"
      ]
    },
    {
      "cell_type": "code",
      "source": [
        "def score_sum(ch, en, ma):\n",
        "  sum = ch + en + ma\n",
        "  return sum\n",
        "\n",
        "def avg_score(sum):\n",
        "  avg = sum/3\n",
        "  return avg\n",
        "\n",
        "chinese = int(input(\"國文：\"))\n",
        "english = int(input(\"英文：\"))\n",
        "math = int(input(\"數學：\"))\n",
        "sum_3 = score_sum(chinese, english, math)\n",
        "\n",
        "\n",
        "print(f\"您的總分: {sum_3}, \\\n",
        "總平均：{round(avg_score(sum_3), 1)}\")\n"
      ],
      "metadata": {
        "colab": {
          "base_uri": "https://localhost:8080/"
        },
        "id": "HdlMOUnTMvXM",
        "outputId": "139a6804-7f27-42bf-e1ed-9b2870e6f66d"
      },
      "execution_count": null,
      "outputs": [
        {
          "output_type": "stream",
          "name": "stdout",
          "text": [
            "國文：90\n",
            "英文：95\n",
            "數學：78\n",
            "您的總分: 263, 總平均：87.7\n"
          ]
        }
      ]
    },
    {
      "cell_type": "markdown",
      "source": [
        "## 內建函式"
      ],
      "metadata": {
        "id": "mindgE4aJ-cD"
      }
    },
    {
      "cell_type": "code",
      "source": [
        "# ord()：取的字元的二進位編碼\n",
        "print(ord('A'))\n",
        "print(ord('E'))\n",
        "# chr(i) : 取的二進位數值的對應字元\n",
        "print(chr(65))\n",
        "print(chr(21280))\n",
        "# eval(source) : 轉換字串內容為數值後運算\n",
        "eval('3+2*4')"
      ],
      "metadata": {
        "colab": {
          "base_uri": "https://localhost:8080/"
        },
        "id": "bC5SDAcJKEo3",
        "outputId": "36bfd831-66bb-473a-8224-8e7422cf0091"
      },
      "execution_count": null,
      "outputs": [
        {
          "output_type": "stream",
          "name": "stdout",
          "text": [
            "65\n",
            "69\n",
            "A\n",
            "匠\n"
          ]
        },
        {
          "output_type": "execute_result",
          "data": {
            "text/plain": [
              "11"
            ]
          },
          "metadata": {},
          "execution_count": 4
        }
      ]
    },
    {
      "cell_type": "code",
      "source": [
        "def C2F(c):\n",
        "  f = 1.8*c+32\n",
        "  return f\n",
        "\n",
        "def F2C(f):\n",
        "  c = f/1.8 - 32\n",
        "  return c\n",
        "\n",
        "while True:\n",
        "  chose_c_or_f = int(input(\"輸入欲查詢的溫度種類:\\n1. C to F\\n2. F to C\\n3. 離開\\n\"))\n",
        "\n",
        "  if chose_c_or_f == 1:\n",
        "    inStr = input(\"輸入攝氏溫度(輸入Ｑ離開): \")\n",
        "    if inStr == \"Q\" or inStr == \"q\":\n",
        "      print(\"Bye Bye ~~  :)\")\n",
        "      break\n",
        "    tc = float(inStr)\n",
        "    fa = C2F(tc)\n",
        "    print(f\"攝氏 {tc} 度等於華氏 {fa} 度。\\n\")\n",
        "  elif chose_c_or_f == 2:\n",
        "    inStr = input(\"輸入華氏溫度(輸入Ｑ離開): \")\n",
        "    if inStr == \"Q\" or inStr == \"q\":\n",
        "      print(\"Bye Bye ~~  :)\")\n",
        "      break\n",
        "    fa = float(inStr)\n",
        "    tc = C2F(tc)\n",
        "    print(f\"華氏 {fa} 度等於攝氏 {tc} 度。\\n\")\n",
        "  else:\n",
        "    print(\"Bye Bye ~~  :)\")\n",
        "    break"
      ],
      "metadata": {
        "colab": {
          "base_uri": "https://localhost:8080/"
        },
        "id": "RmV28SUGEkPN",
        "outputId": "d12f12b3-e342-4b6f-f9b2-ab594b0b8ef2"
      },
      "execution_count": null,
      "outputs": [
        {
          "output_type": "stream",
          "name": "stdout",
          "text": [
            "輸入欲查詢的溫度種類:\n",
            "1. C to F\n",
            "2. F to C\n",
            "3. 離開\n",
            "3\n",
            "Bye Bye ~~  :)\n"
          ]
        }
      ]
    },
    {
      "cell_type": "markdown",
      "source": [
        "## 函式參數設定與對應\n",
        "\n",
        "  ### 1. Python 不支援函式多載\n",
        "  * 相同功能，不同參數數量\n",
        "  * 相同功能，不同參數型態(意義) \n",
        "    * Python 是動態型別，無法用型態來辨識參數的意義\n",
        "\n",
        "### 2. 參數宣告預設值\n",
        "  * 參數未傳入(不足)時，表示該參數值為預設值\n",
        "  * 函式宣告中，**`一但某個參數宣告預設值，之後的參數都要宣告預設值`**\n",
        "\n",
        "\n",
        "### 3. 呼叫時以關鍵字指定參數 Keyword Argument\n",
        "  * 關鍵字指定之前的參數以位置對應\n",
        "  * 關鍵字指定之後的參數均需以關鍵字指定"
      ],
      "metadata": {
        "id": "iQ-lmKTUYas1"
      }
    },
    {
      "cell_type": "code",
      "source": [
        "def weighted_sum(c, e=80, m=60):\n",
        "    return (c+e*2+m*3)\n",
        "\n",
        "x = weighted_sum(100, m=90)\n",
        "print(\"x =\", x)\n",
        "\n",
        "y = weighted_sum(e=90, m=80, c=70)\n",
        "print(\"y =\", y)\n",
        "\n",
        "z = weighted_sum(e=60, c= 80)\n",
        "print(\"z =\", z)\n",
        "\n",
        "#w = weighted_sum(m=60, e= 80, 75)\n",
        "#print(\"w =\", w)\n"
      ],
      "metadata": {
        "colab": {
          "base_uri": "https://localhost:8080/"
        },
        "id": "jzrsgspyZMR6",
        "outputId": "04b66401-aeed-40ca-8ebd-bd6c793e0c7f"
      },
      "execution_count": null,
      "outputs": [
        {
          "output_type": "stream",
          "name": "stdout",
          "text": [
            "x = 530\n",
            "y = 490\n",
            "z = 380\n"
          ]
        }
      ]
    },
    {
      "cell_type": "markdown",
      "source": [
        "## 不定個數的參數\n",
        "\n",
        "## * def function_name(…., \\*listvar, \\**dictvar):\n",
        "* 函式參數數量有很多可能性時使用\n",
        "* 一般參數之後宣告集合型態參數，讓函式可接受變動的參數數量\n",
        "  * *listvar 將多餘的位置參數視為序列 (tuple)。\n",
        "  * **dictvar 將多餘的關鍵字參數視為字典 (dictionary)。\n",
        "* *listvar 與 **dictvar 可以同時使用。\n",
        "  * 函數中*listvar 與 **dictvar都只能有一個。\n",
        "  * *listvar 宣告在 **dictvar 之前\n",
        "\n",
        "* *listvar：\n",
        "  * 呼叫函式時多餘參數使用位置對應(逗號隔開)\n",
        "* **dictvar：\n",
        "  * 呼叫函式時多餘參數需使用關鍵字指定"
      ],
      "metadata": {
        "id": "PW4a4uSjsrJD"
      }
    },
    {
      "cell_type": "code",
      "source": [
        "def f1(x, y, *z):\n",
        "  print(x, y, z)\n",
        "\n",
        "f1(1, 2, 3, 4, 5)\n",
        "\n",
        "def f2(x, y, **z):\n",
        "  print(x, y, z)\n",
        "\n",
        "f2(1, k1=3, k2=4, y=2)\n",
        "print()\n",
        "\n",
        "def sumFunc(n1, n2, *other):\n",
        "  s = n1 + n2\n",
        "  for i in other:\n",
        "    s += i\n",
        "  return s\n",
        "\n",
        "print(sumFunc(1, 2))\n",
        "print(sumFunc(1, 2, 3, 4, 5, 6, 7, 8, 9, 10))"
      ],
      "metadata": {
        "colab": {
          "base_uri": "https://localhost:8080/"
        },
        "id": "RgKHuHAIsqtc",
        "outputId": "76db77d9-1a4b-4aeb-84ab-a57585f95615"
      },
      "execution_count": null,
      "outputs": [
        {
          "output_type": "stream",
          "name": "stdout",
          "text": [
            "1 2 (3, 4, 5)\n",
            "1 2 {'k1': 3, 'k2': 4}\n",
            "\n",
            "3\n",
            "55\n"
          ]
        }
      ]
    },
    {
      "cell_type": "code",
      "source": [
        "def person_info(name, age, **other):\n",
        "  print(\"== Person Info ==\")\n",
        "  print(f\"Name: {name}\")\n",
        "  print(f\"Age: {age}\")\n",
        "  for i in other:\n",
        "    print(f\"{i}: {other[i]}\")\n",
        "\n",
        "person_info(\"Sean\", 40)\n",
        "person_info(\"David\", 35, Phone = \"0977654786\", Company = \"IBM\")"
      ],
      "metadata": {
        "colab": {
          "base_uri": "https://localhost:8080/"
        },
        "id": "2hUgukwzvoKg",
        "outputId": "727ee529-527c-4ce5-c3f4-90b61ea07bc5"
      },
      "execution_count": null,
      "outputs": [
        {
          "output_type": "stream",
          "name": "stdout",
          "text": [
            "== Person Info ==\n",
            "Name: Sean\n",
            "Age: 40\n",
            "== Person Info ==\n",
            "Name: David\n",
            "Age: 35\n",
            "Phone: 0977654786\n",
            "Company: IBM\n"
          ]
        }
      ]
    },
    {
      "cell_type": "markdown",
      "source": [
        "# 變數範圍 Scope\n",
        "\n",
        "### 1. Python 是動態語言，變數在指定值時配置記憶體，建立物件\n",
        "  * 靜態語言(ex: C, Java)，變數在宣告時建立\n",
        "\n",
        "### 2. 變數指定的位置不同，有不同的變數範圍\n",
        "  * 在變數範圍內，可以存取變數內容\n",
        "  * 離開變數範圍或使用del 刪除變數，變數回收，不可存取\n",
        "    * 變數指向的物件，如果沒有被其他變數指向，會被系統自動垃圾收集\n",
        "\n",
        "### 3. Python 變數範圍(scope)：LEGB\n",
        "* Local 區域變數：函式或方法內指派的變數\n",
        "* Enclosing 閉包變數\n",
        "* Global 全域變數：程式(模組)內指派的變數\n",
        "* Builtin 內建變數：Python執行環境內建的變數"
      ],
      "metadata": {
        "id": "EMANl1B1xMuM"
      }
    },
    {
      "cell_type": "code",
      "source": [
        "def func(x):\n",
        "  x = 10\n",
        "  a = 8\n",
        "  print(f\"func(): x = {x}\")\n",
        "  print(f\"func(): a = {a}\")\n",
        "  return\n",
        "\n",
        "a = 5\n",
        "print(f\"a = {a}\")\n",
        "func(a)\n",
        "print(f\"a = {a}\")\n"
      ],
      "metadata": {
        "colab": {
          "base_uri": "https://localhost:8080/"
        },
        "id": "2K-dgK9pxGMG",
        "outputId": "85adeaa0-aef9-47ce-9f04-c04d5ef3bc95"
      },
      "execution_count": null,
      "outputs": [
        {
          "output_type": "stream",
          "name": "stdout",
          "text": [
            "a = 5\n",
            "func(): x = 10\n",
            "func(): a = 8\n",
            "a = 5\n"
          ]
        }
      ]
    },
    {
      "cell_type": "markdown",
      "source": [
        "## BMI 練習"
      ],
      "metadata": {
        "id": "mufFgiqK8EyK"
      }
    },
    {
      "cell_type": "code",
      "source": [
        "# BMI計算\n",
        "def BMIcal(w, h):\n",
        "  BMI_result = round(w/(h**2), 1)\n",
        "  return BMI_result\n",
        "\n",
        "# BMI評級\n",
        "def check_BMI(bmi):\n",
        "  check_result = \"\"\n",
        "  if(bmi > 30): \n",
        "      check_result = \"肥胖\"\n",
        "\n",
        "  elif(bmi > 25): # 30-26\n",
        "      check_result = \"過重\"\n",
        "\n",
        "  elif(bmi > 18.5): # 25-18.6\n",
        "      check_result = \"正常\"\n",
        "\n",
        "  elif(bmi > 0): # 18.6-1\n",
        "      check_result = \"過輕\"\n",
        "  return check_result \n",
        "\n",
        "# 檢查輸入\n",
        "def check_user_input(input):   \n",
        "    try:\n",
        "        # Convert it into integer\n",
        "        val = int(input)        \n",
        "    except ValueError:\n",
        "        try:\n",
        "            # Convert it into float\n",
        "            val = float(input)\n",
        "        except ValueError:\n",
        "            print(\"No.. input is not a number. It's a string\")\n",
        "\n",
        "# ============================\n",
        "\n",
        "while True:\n",
        "  # 輸入\n",
        "  w = input(\"輸入您的體重(kg): \")\n",
        "  if check_user_input(w):\n",
        "    break\n",
        "  h = input(\"輸入您的身高(cm): \")\n",
        "  if check_user_input(h):\n",
        "    break\n",
        "\n",
        "  w = float(w)\n",
        "  h = float(h)/100\n",
        "  # 導出計算\n",
        "  BMI = BMIcal(w, h)\n",
        "\n",
        "  # Result\n",
        "  print(f\"您的BMI值為: {round(BMI, 2)}, 您的判定結果為{check_BMI(BMI)}。\")\n",
        "  break"
      ],
      "metadata": {
        "colab": {
          "base_uri": "https://localhost:8080/"
        },
        "id": "SYbvfX_Q8OnF",
        "outputId": "6af4f5a6-ee1f-4be1-ac8d-bd87fd148634"
      },
      "execution_count": null,
      "outputs": [
        {
          "output_type": "stream",
          "name": "stdout",
          "text": [
            "輸入您的體重(kg): 45\n",
            "輸入您的身高(cm): 155\n",
            "您的BMI值為: 18.7, 您的判定結果為正常。\n"
          ]
        }
      ]
    },
    {
      "cell_type": "markdown",
      "source": [
        "# Lambda 運算式\n",
        "\n",
        "### 宣告匿名(沒有名稱)函式\n",
        "* 只能包含一個運算式\n",
        "* 可以有一個傳回值，即運算式的運算結果\n",
        "\n",
        "### 語法：lambda 參數, 參數, ...：運算式\n",
        "* 函式不會重複使用時，以lambda運算式取代函式宣告\n",
        "* 函式中以lambda運算式作為函式的參數\n",
        "\n"
      ],
      "metadata": {
        "id": "D9Q1neyzKHpz"
      }
    },
    {
      "cell_type": "code",
      "source": [
        "# def sq(x):\n",
        "#   return x**2\n",
        "\n",
        "sq = lambda x : x**2\n",
        "print(sq(3))"
      ],
      "metadata": {
        "colab": {
          "base_uri": "https://localhost:8080/"
        },
        "id": "iDNQQOa1KMoz",
        "outputId": "5e03e403-bf26-481c-9395-4e94a2881cdd"
      },
      "execution_count": null,
      "outputs": [
        {
          "output_type": "stream",
          "name": "stdout",
          "text": [
            "9\n"
          ]
        }
      ]
    },
    {
      "cell_type": "markdown",
      "source": [
        "## map( ) 函式\n",
        "* map(function, iterable, ...)\n",
        "  * function：轉換資料的Lambda運算式\n",
        "  * iterable ： 要轉換的資料集合(List) 。\n",
        "  * 傳回 iterator物件，元素內容為原集合元素以Lambda運算式轉換的結果\n",
        "  * 使用 list() 傳換為List"
      ],
      "metadata": {
        "id": "ZkU9AiS_KrER"
      }
    },
    {
      "cell_type": "code",
      "source": [
        "list1 = [1, 2, 3, 4, 5]\n",
        "# iter2 = map(sq, list1)\n",
        "\n",
        "list2 = map(lambda x : x**2, list1)\n",
        "\n",
        "print(list1)\n",
        "print(list2)\n",
        "print(list(list2))"
      ],
      "metadata": {
        "colab": {
          "base_uri": "https://localhost:8080/"
        },
        "id": "cn7V7aKoKtSx",
        "outputId": "9ab299a3-f5bc-4863-9c41-6f2412d8409b"
      },
      "execution_count": null,
      "outputs": [
        {
          "output_type": "stream",
          "name": "stdout",
          "text": [
            "[1, 2, 3, 4, 5]\n",
            "<map object at 0x7f3e624b6990>\n",
            "[1, 4, 9, 16, 25]\n"
          ]
        }
      ]
    },
    {
      "cell_type": "markdown",
      "source": [
        "## filter( ) 函式\n",
        "* filter(function, iterable, ...)\n",
        "  * function：過濾用的Lambda運算式，運算結果為布林值\n",
        "  * iterable ： 要過濾的資料集合(List) 。\n",
        "  * 傳回 iterator物件，內容為原集合中所有以Lambda運算得到true的元素\n",
        "  * 使用 list() 傳換為List"
      ],
      "metadata": {
        "id": "XSJVj6pzUcjm"
      }
    },
    {
      "cell_type": "code",
      "source": [
        "list1 = [1, 2, 3, 5, 8, 13, 21, 34, 55, 89, 101, 120]\n",
        "print(list1)\n",
        "\n",
        "list2 = filter(lambda x : x % 2==0, list1)\n",
        "print(list2)\n",
        "print(list(list2))"
      ],
      "metadata": {
        "colab": {
          "base_uri": "https://localhost:8080/"
        },
        "id": "byFX85KsUcQq",
        "outputId": "aa05f5c7-db81-432d-cd56-07c0e2d6c515"
      },
      "execution_count": null,
      "outputs": [
        {
          "output_type": "stream",
          "name": "stdout",
          "text": [
            "[1, 2, 3, 5, 8, 13, 21, 34, 55, 89, 101, 120]\n",
            "<filter object at 0x7f3e6a4be290>\n",
            "[2, 8, 34, 120]\n"
          ]
        }
      ]
    },
    {
      "cell_type": "markdown",
      "source": [
        "### Lambda 練習 體溫對照"
      ],
      "metadata": {
        "id": "Rp4XKtBEVUZR"
      }
    },
    {
      "cell_type": "code",
      "source": [
        "tc = [0, 10, 20, 30, 40, 50, 60, 70, 80, 90, 100]\n",
        "\n",
        "tf = list(map(lambda x : 1.8*x+32, tc))\n",
        "\n",
        "print(\"======== 溫度對照表 ========\")\n",
        "for c, f in zip(tc, tf): \n",
        "  print(f\"攝氏 {c}\\t度等於華氏 {f}\\t度\")\n",
        "print(\"==========================\")"
      ],
      "metadata": {
        "colab": {
          "base_uri": "https://localhost:8080/"
        },
        "id": "c7ADf6G3VbJq",
        "outputId": "ad44ee2c-e37b-437a-c79d-8cc20db194ae"
      },
      "execution_count": null,
      "outputs": [
        {
          "output_type": "stream",
          "name": "stdout",
          "text": [
            "======== 溫度對照表 ========\n",
            "攝氏 0\t度等於華氏 32.0\t度\n",
            "攝氏 10\t度等於華氏 50.0\t度\n",
            "攝氏 20\t度等於華氏 68.0\t度\n",
            "攝氏 30\t度等於華氏 86.0\t度\n",
            "攝氏 40\t度等於華氏 104.0\t度\n",
            "攝氏 50\t度等於華氏 122.0\t度\n",
            "攝氏 60\t度等於華氏 140.0\t度\n",
            "攝氏 70\t度等於華氏 158.0\t度\n",
            "攝氏 80\t度等於華氏 176.0\t度\n",
            "攝氏 90\t度等於華氏 194.0\t度\n",
            "攝氏 100\t度等於華氏 212.0\t度\n",
            "==========================\n"
          ]
        }
      ]
    },
    {
      "cell_type": "markdown",
      "source": [
        "### Lambda 練習 身分證"
      ],
      "metadata": {
        "id": "KwmvmiTla0yG"
      }
    },
    {
      "cell_type": "code",
      "source": [
        "places = {\n",
        "    'A':'臺北市', 'B':'臺中市', 'C':'基隆市', 'D':'臺南市', 'E':'高雄市', 'F':'新北市',\n",
        "    'G':'宜蘭縣', 'H':'桃園市', 'I':'嘉義市', 'J':'新竹縣', 'K':'苗栗縣',\n",
        "    'M':'南投縣', 'N':'彰化縣', 'O':'新竹市', 'P':'雲林縣', 'Q':'嘉義縣', 'T':'屏東縣',\n",
        "    'U':'花蓮縣', 'V':'臺東縣', 'W':'金門縣', 'X':'澎湖縣', 'Z':'連江縣',\n",
        "    # 'L':'臺中縣', 'R':'臺南縣', 'S':'高雄縣', 'Y':'陽明山'\n",
        "}\n",
        "\n",
        "place_num = {\n",
        "    'A':10, 'B':11, 'C':12, 'D':13, 'E':14, 'F':15, 'G':16, 'H':17, 'I':34, 'J':18, 'K':19,\n",
        "    'M':21, 'N':22, 'O':35, 'P':23, 'Q':24, 'T':27, 'U':28, 'V':29, 'W':32, 'X':30, 'Z':33,\n",
        "    # 'L':20, 'R':25, 'S':26, 'Y':31\n",
        "}\n",
        "\n",
        "num_weight = [8, 7, 6, 5, 4, 3, 2, 1, 1]\n",
        "\n",
        "\n",
        "\n",
        "def is_valid_id(pid):  \n",
        "  if not pid[0].isalpha():\n",
        "    print(\"Error, 第一碼必須為數字！\")\n",
        "    return \n",
        "  elif(len(pid) != 10):\n",
        "    print(\"Error, 身分證號碼必須為10碼！\")\n",
        "    return \n",
        "  elif(not pid[1:].isdigit()):\n",
        "    print(\"Error, 後九碼必須為數字！\")\n",
        "    return \n",
        "  elif((not pid[1] == '1') and (not pid[1] == '2')):\n",
        "    print(\"Error, 第一個數字必須為 1 or 2 ！\")\n",
        "    return \n",
        "  else:\n",
        "    checkSum = first_id_num(place_num[pid[0]])\n",
        "    for i in range(1, 10):\n",
        "        checkSum += int(pid[i])*num_weight[i-1]\n",
        "    if(checkSum%10==0):  \n",
        "        return True\n",
        "    else:            \n",
        "        return False  \n",
        "    return \n",
        "\n",
        "def first_id_num(num):\n",
        "  num = place_num[num]\n",
        "  return num//10+num%10*9\n",
        "\n",
        "pid = input('輸入身分證字號:')\n",
        "\n",
        "if(is_valid_id(pid)):\n",
        "    gender = int(pid[1])\n",
        "    birth = pid[0]\n",
        "    if(gender == 1):\n",
        "        print('先生您好!')\n",
        "    else:\n",
        "        print('小姐您好!')\n",
        "    print('出生地:', places[birth])\n",
        "else:\n",
        "    print('身份證字號無效:%s' %pid)\n"
      ],
      "metadata": {
        "colab": {
          "base_uri": "https://localhost:8080/",
          "height": 417
        },
        "id": "eowPCA1Sbj_S",
        "outputId": "67e407ea-1dc7-4d65-ae9e-317c1b4369a4"
      },
      "execution_count": null,
      "outputs": [
        {
          "name": "stdout",
          "output_type": "stream",
          "text": [
            "輸入身分證字號:H123995957\n"
          ]
        },
        {
          "output_type": "error",
          "ename": "KeyError",
          "evalue": "ignored",
          "traceback": [
            "\u001b[0;31m---------------------------------------------------------------------------\u001b[0m",
            "\u001b[0;31mKeyError\u001b[0m                                  Traceback (most recent call last)",
            "\u001b[0;32m<ipython-input-102-3e06f706d2c5>\u001b[0m in \u001b[0;36m<module>\u001b[0;34m()\u001b[0m\n\u001b[1;32m     46\u001b[0m \u001b[0mpid\u001b[0m \u001b[0;34m=\u001b[0m \u001b[0minput\u001b[0m\u001b[0;34m(\u001b[0m\u001b[0;34m'輸入身分證字號:'\u001b[0m\u001b[0;34m)\u001b[0m\u001b[0;34m\u001b[0m\u001b[0;34m\u001b[0m\u001b[0m\n\u001b[1;32m     47\u001b[0m \u001b[0;34m\u001b[0m\u001b[0m\n\u001b[0;32m---> 48\u001b[0;31m \u001b[0;32mif\u001b[0m\u001b[0;34m(\u001b[0m\u001b[0mis_valid_id\u001b[0m\u001b[0;34m(\u001b[0m\u001b[0mpid\u001b[0m\u001b[0;34m)\u001b[0m\u001b[0;34m)\u001b[0m\u001b[0;34m:\u001b[0m\u001b[0;34m\u001b[0m\u001b[0;34m\u001b[0m\u001b[0m\n\u001b[0m\u001b[1;32m     49\u001b[0m     \u001b[0mgender\u001b[0m \u001b[0;34m=\u001b[0m \u001b[0mint\u001b[0m\u001b[0;34m(\u001b[0m\u001b[0mpid\u001b[0m\u001b[0;34m[\u001b[0m\u001b[0;36m1\u001b[0m\u001b[0;34m]\u001b[0m\u001b[0;34m)\u001b[0m\u001b[0;34m\u001b[0m\u001b[0;34m\u001b[0m\u001b[0m\n\u001b[1;32m     50\u001b[0m     \u001b[0mbirth\u001b[0m \u001b[0;34m=\u001b[0m \u001b[0mpid\u001b[0m\u001b[0;34m[\u001b[0m\u001b[0;36m0\u001b[0m\u001b[0;34m]\u001b[0m\u001b[0;34m\u001b[0m\u001b[0;34m\u001b[0m\u001b[0m\n",
            "\u001b[0;32m<ipython-input-102-3e06f706d2c5>\u001b[0m in \u001b[0;36mis_valid_id\u001b[0;34m(pid)\u001b[0m\n\u001b[1;32m     31\u001b[0m     \u001b[0;32mreturn\u001b[0m\u001b[0;34m\u001b[0m\u001b[0;34m\u001b[0m\u001b[0m\n\u001b[1;32m     32\u001b[0m   \u001b[0;32melse\u001b[0m\u001b[0;34m:\u001b[0m\u001b[0;34m\u001b[0m\u001b[0;34m\u001b[0m\u001b[0m\n\u001b[0;32m---> 33\u001b[0;31m     \u001b[0mcheckSum\u001b[0m \u001b[0;34m=\u001b[0m \u001b[0mfirst_id_num\u001b[0m\u001b[0;34m(\u001b[0m\u001b[0mplace_num\u001b[0m\u001b[0;34m[\u001b[0m\u001b[0mpid\u001b[0m\u001b[0;34m[\u001b[0m\u001b[0;36m0\u001b[0m\u001b[0;34m]\u001b[0m\u001b[0;34m]\u001b[0m\u001b[0;34m)\u001b[0m\u001b[0;34m\u001b[0m\u001b[0;34m\u001b[0m\u001b[0m\n\u001b[0m\u001b[1;32m     34\u001b[0m     \u001b[0;32mfor\u001b[0m \u001b[0mi\u001b[0m \u001b[0;32min\u001b[0m \u001b[0mrange\u001b[0m\u001b[0;34m(\u001b[0m\u001b[0;36m1\u001b[0m\u001b[0;34m,\u001b[0m \u001b[0;36m10\u001b[0m\u001b[0;34m)\u001b[0m\u001b[0;34m:\u001b[0m\u001b[0;34m\u001b[0m\u001b[0;34m\u001b[0m\u001b[0m\n\u001b[1;32m     35\u001b[0m         \u001b[0mcheckSum\u001b[0m \u001b[0;34m+=\u001b[0m \u001b[0mint\u001b[0m\u001b[0;34m(\u001b[0m\u001b[0mpid\u001b[0m\u001b[0;34m[\u001b[0m\u001b[0mi\u001b[0m\u001b[0;34m]\u001b[0m\u001b[0;34m)\u001b[0m\u001b[0;34m*\u001b[0m\u001b[0mnum_weight\u001b[0m\u001b[0;34m[\u001b[0m\u001b[0mi\u001b[0m\u001b[0;34m-\u001b[0m\u001b[0;36m1\u001b[0m\u001b[0;34m]\u001b[0m\u001b[0;34m\u001b[0m\u001b[0;34m\u001b[0m\u001b[0m\n",
            "\u001b[0;32m<ipython-input-102-3e06f706d2c5>\u001b[0m in \u001b[0;36mfirst_id_num\u001b[0;34m(num)\u001b[0m\n\u001b[1;32m     41\u001b[0m \u001b[0;34m\u001b[0m\u001b[0m\n\u001b[1;32m     42\u001b[0m \u001b[0;32mdef\u001b[0m \u001b[0mfirst_id_num\u001b[0m\u001b[0;34m(\u001b[0m\u001b[0mnum\u001b[0m\u001b[0;34m)\u001b[0m\u001b[0;34m:\u001b[0m\u001b[0;34m\u001b[0m\u001b[0;34m\u001b[0m\u001b[0m\n\u001b[0;32m---> 43\u001b[0;31m   \u001b[0mnum\u001b[0m \u001b[0;34m=\u001b[0m \u001b[0mplace_num\u001b[0m\u001b[0;34m[\u001b[0m\u001b[0mnum\u001b[0m\u001b[0;34m]\u001b[0m\u001b[0;34m\u001b[0m\u001b[0;34m\u001b[0m\u001b[0m\n\u001b[0m\u001b[1;32m     44\u001b[0m   \u001b[0;32mreturn\u001b[0m \u001b[0mnum\u001b[0m\u001b[0;34m//\u001b[0m\u001b[0;36m10\u001b[0m\u001b[0;34m+\u001b[0m\u001b[0mnum\u001b[0m\u001b[0;34m%\u001b[0m\u001b[0;36m10\u001b[0m\u001b[0;34m*\u001b[0m\u001b[0;36m9\u001b[0m\u001b[0;34m\u001b[0m\u001b[0;34m\u001b[0m\u001b[0m\n\u001b[1;32m     45\u001b[0m \u001b[0;34m\u001b[0m\u001b[0m\n",
            "\u001b[0;31mKeyError\u001b[0m: 17"
          ]
        }
      ]
    }
  ]
}